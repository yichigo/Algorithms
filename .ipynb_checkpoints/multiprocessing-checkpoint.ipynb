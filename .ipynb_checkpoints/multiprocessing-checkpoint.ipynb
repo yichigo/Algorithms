{
 "cells": [
  {
   "cell_type": "code",
   "execution_count": 220,
   "id": "reasonable-worth",
   "metadata": {},
   "outputs": [],
   "source": [
    "# folk from mofanpy.com"
   ]
  },
  {
   "cell_type": "code",
   "execution_count": 67,
   "id": "manual-installation",
   "metadata": {},
   "outputs": [
    {
     "name": "stdout",
     "output_type": "stream",
     "text": [
      "Overwriting temp/1.py\n"
     ]
    }
   ],
   "source": [
    "%%writefile temp/1.py\n",
    "# multiprocessing doesn't work in jupyter, we need to run it in terminal\n",
    "import multiprocessing as mp\n",
    "import threading as td\n",
    "\n",
    "def job(q):\n",
    "    res = 0\n",
    "    for i in range(1000):\n",
    "        res += i + i**2 + i**3\n",
    "    q.put(res) # queue\n",
    "    \n",
    "if __name__ == '__main__':\n",
    "    q = mp.Queue()\n",
    "    \n",
    "    p1 = mp.Process(target = job, args = (q,)) # don't forget comma \",\"\n",
    "    p2 = mp.Process(target = job, args = (q,))\n",
    "    p1.start()\n",
    "    p2.start()\n",
    "    p1.join()\n",
    "    p2.join()\n",
    "    \n",
    "    res1 = q.get()\n",
    "    res2 = q.get()\n",
    "    \n",
    "    print(res1 + res2)"
   ]
  },
  {
   "cell_type": "code",
   "execution_count": 68,
   "id": "national-screening",
   "metadata": {},
   "outputs": [
    {
     "name": "stdout",
     "output_type": "stream",
     "text": [
      "499667166000\n"
     ]
    }
   ],
   "source": [
    "! python temp/1.py"
   ]
  },
  {
   "cell_type": "code",
   "execution_count": 170,
   "id": "little-daisy",
   "metadata": {},
   "outputs": [
    {
     "name": "stdout",
     "output_type": "stream",
     "text": [
      "Overwriting temp/1.py\n"
     ]
    }
   ],
   "source": [
    "%%writefile temp/1.py\n",
    "import threading\n",
    "import multiprocessing as mp\n",
    "from queue import Queue\n",
    "import copy\n",
    "import time\n",
    "\n",
    "def job(l, q):\n",
    "    res = sum(l)\n",
    "    q.put(res)\n",
    "\n",
    "def multithreading(l):\n",
    "    q = mp.Queue()\n",
    "    threads = []\n",
    "    n = 4\n",
    "    for i in range(n):\n",
    "        t = mp.Process(target=job, args=(copy.copy(l), q), name='T%i' % i)\n",
    "        t.start()\n",
    "        threads.append(t)\n",
    "    [t.join() for t in threads]\n",
    "    total = 0\n",
    "    for _ in range(n):\n",
    "        total += q.get()\n",
    "    print(total)\n",
    "\n",
    "def normal(l):\n",
    "    total = sum(l)\n",
    "    print(total)\n",
    "\n",
    "if __name__ == '__main__':\n",
    "    l = list(range(10000000))\n",
    "    s_t = time.time()\n",
    "    normal(l*4)\n",
    "    print('normal: ',time.time()-s_t)\n",
    "    s_t = time.time()\n",
    "    multithreading(l)\n",
    "    print('multithreading: ', time.time()-s_t)\n",
    "    "
   ]
  },
  {
   "cell_type": "code",
   "execution_count": 171,
   "id": "decreased-tattoo",
   "metadata": {},
   "outputs": [
    {
     "name": "stdout",
     "output_type": "stream",
     "text": [
      "199999980000000\n",
      "normal:  0.8115270137786865\n",
      "199999980000000\n",
      "multithreading:  4.490823268890381\n"
     ]
    }
   ],
   "source": [
    "# with heavy comminication, multiprocessing is slower\n",
    "! python temp/1.py"
   ]
  },
  {
   "cell_type": "code",
   "execution_count": null,
   "id": "secret-danger",
   "metadata": {},
   "outputs": [],
   "source": []
  },
  {
   "cell_type": "code",
   "execution_count": 172,
   "id": "derived-differential",
   "metadata": {},
   "outputs": [
    {
     "name": "stdout",
     "output_type": "stream",
     "text": [
      "Overwriting temp/1.py\n"
     ]
    }
   ],
   "source": [
    "%%writefile temp/1.py\n",
    "# multiprocessing doesn't work in jupyter, we need to run it in terminal\n",
    "import threading\n",
    "import multiprocessing as mp\n",
    "from queue import Queue\n",
    "import copy\n",
    "import time\n",
    "\n",
    "def job(num, q):\n",
    "    res = 0\n",
    "    l = list(range(num))\n",
    "    for i in l:\n",
    "        res += i\n",
    "    q.put(res)\n",
    "\n",
    "def multithreading(num):\n",
    "    q = mp.Queue()\n",
    "    threads = []\n",
    "    n = 4\n",
    "    for i in range(n):\n",
    "        t = mp.Process(target=job, args=(num, q), name='T%i' % i)\n",
    "        t.start()\n",
    "        threads.append(t)\n",
    "    [t.join() for t in threads]\n",
    "    total = 0\n",
    "    for _ in range(n):\n",
    "        total += q.get()\n",
    "    print(total)\n",
    "\n",
    "def normal(num):\n",
    "    total = 0\n",
    "    l = list(range(num))*4\n",
    "    for i in l:\n",
    "        total += i\n",
    "    print(total)\n",
    "\n",
    "if __name__ == '__main__':\n",
    "    num = 10000000\n",
    "    s_t = time.time()\n",
    "    normal(num)\n",
    "    print('normal: ',time.time()-s_t)\n",
    "    s_t = time.time()\n",
    "    multithreading(num)\n",
    "    print('multithreading: ', time.time()-s_t)\n",
    "    "
   ]
  },
  {
   "cell_type": "code",
   "execution_count": 173,
   "id": "incident-march",
   "metadata": {},
   "outputs": [
    {
     "name": "stdout",
     "output_type": "stream",
     "text": [
      "199999980000000\n",
      "normal:  3.173163890838623\n",
      "199999980000000\n",
      "multithreading:  1.268584966659546\n"
     ]
    }
   ],
   "source": [
    "# with light comminication, multiprocessing is faster\n",
    "! python temp/1.py"
   ]
  },
  {
   "cell_type": "code",
   "execution_count": 176,
   "id": "needed-hobby",
   "metadata": {},
   "outputs": [
    {
     "name": "stdout",
     "output_type": "stream",
     "text": [
      "Overwriting temp/1.py\n"
     ]
    }
   ],
   "source": [
    "%%writefile temp/1.py\n",
    "# compare normal, multithreading and multiprocessing\n",
    "import multiprocessing as mp\n",
    "import threading as td\n",
    "import time\n",
    "\n",
    "def normal():\n",
    "    res = 0\n",
    "    for _ in range(2):\n",
    "        for i in range(1000000):\n",
    "            res += i + i**2 + i**3\n",
    "    print('normal:', res)\n",
    "    \n",
    "def job(q):\n",
    "    res = 0\n",
    "    for i in range(1000000):\n",
    "        res += i + i**2 + i**3\n",
    "    q.put(res) # queue\n",
    "\n",
    "def multithread():\n",
    "    q = mp.Queue() # thread可放入process同样的queue中\n",
    "    t1 = td.Thread(target=job, args=(q,))\n",
    "    t2 = td.Thread(target=job, args=(q,))\n",
    "    t1.start()\n",
    "    t2.start()\n",
    "    t1.join()\n",
    "    t2.join()\n",
    "    res1 = q.get()\n",
    "    res2 = q.get()\n",
    "    print('multithread:', res1 + res2)    \n",
    "\n",
    "def multicore():\n",
    "    q = mp.Queue()\n",
    "    p1 = mp.Process(target=job, args=(q,))\n",
    "    p2 = mp.Process(target=job, args=(q,))\n",
    "    p1.start()\n",
    "    p2.start()\n",
    "    p1.join()\n",
    "    p2.join()\n",
    "    res1 = q.get()\n",
    "    res2 = q.get()\n",
    "    print('multicore:',res1 + res2)\n",
    "\n",
    "\n",
    "if __name__ == '__main__':\n",
    "    st = time.time()\n",
    "    normal()\n",
    "    st1 = time.time()\n",
    "    print('normal time:', st1 - st)\n",
    "    multithread()\n",
    "    st2 = time.time()\n",
    "    print('multithread time:', st2 - st1)\n",
    "    multicore()\n",
    "    print('multicore time:', time.time() - st2)"
   ]
  },
  {
   "cell_type": "code",
   "execution_count": 177,
   "id": "exceptional-newcastle",
   "metadata": {},
   "outputs": [
    {
     "name": "stdout",
     "output_type": "stream",
     "text": [
      "normal: 499999666667166666000000\n",
      "normal time: 1.528214693069458\n",
      "multithread: 499999666667166666000000\n",
      "multithread time: 1.5432262420654297\n",
      "multicore: 499999666667166666000000\n",
      "multicore time: 0.9130129814147949\n"
     ]
    }
   ],
   "source": [
    "! python temp/1.py"
   ]
  },
  {
   "cell_type": "code",
   "execution_count": 186,
   "id": "controversial-strengthening",
   "metadata": {},
   "outputs": [
    {
     "name": "stdout",
     "output_type": "stream",
     "text": [
      "Overwriting temp/1.py\n"
     ]
    }
   ],
   "source": [
    "%%writefile temp/1.py\n",
    "# Pool\n",
    "import multiprocessing as mp\n",
    "\n",
    "def job(x):\n",
    "    return x*x\n",
    "\n",
    "def multicore():\n",
    "    pool = mp.Pool(processes=2)\n",
    "    res = pool.map(job, range(10))\n",
    "    print(res)\n",
    "    res = pool.apply_async(job, (2,))\n",
    "    print(res.get())\n",
    "    multi_res =[pool.apply_async(job, (i,)) for i in range(10)]\n",
    "    print([res.get() for res in multi_res])\n",
    "\n",
    "if __name__ == '__main__':\n",
    "    multicore()"
   ]
  },
  {
   "cell_type": "code",
   "execution_count": 187,
   "id": "linear-bathroom",
   "metadata": {},
   "outputs": [
    {
     "name": "stdout",
     "output_type": "stream",
     "text": [
      "[0, 1, 4, 9, 16, 25, 36, 49, 64, 81]\n",
      "4\n",
      "[0, 1, 4, 9, 16, 25, 36, 49, 64, 81]\n"
     ]
    }
   ],
   "source": [
    "! python temp/1.py"
   ]
  },
  {
   "cell_type": "code",
   "execution_count": 218,
   "id": "defined-chase",
   "metadata": {},
   "outputs": [
    {
     "name": "stdout",
     "output_type": "stream",
     "text": [
      "Overwriting temp/1.py\n"
     ]
    }
   ],
   "source": [
    "%%writefile temp/1.py\n",
    "# Shared Memory & Lock\n",
    "import multiprocessing as mp\n",
    "import time\n",
    "\n",
    "def job(v, num, l):\n",
    "    l.acquire()\n",
    "    for _ in range(5):\n",
    "        time.sleep(0.1)\n",
    "        v.value += num\n",
    "        print(v.value)\n",
    "    l.release()\n",
    "\n",
    "def multicore():\n",
    "    l = mp.Lock()\n",
    "    v = mp.Value('i', 0)\n",
    "    p1 = mp.Process(target=job, args=(v,1,l))\n",
    "    p2 = mp.Process(target=job, args=(v,3,l))\n",
    "    p1.start()\n",
    "    p2.start()\n",
    "    p1.join()\n",
    "    p2.join()\n",
    "    \n",
    "if __name__ == '__main__':\n",
    "    multicore()"
   ]
  },
  {
   "cell_type": "code",
   "execution_count": 219,
   "id": "split-consolidation",
   "metadata": {},
   "outputs": [
    {
     "name": "stdout",
     "output_type": "stream",
     "text": [
      "1\n",
      "2\n",
      "3\n",
      "4\n",
      "5\n",
      "8\n",
      "11\n",
      "14\n",
      "17\n",
      "20\n"
     ]
    }
   ],
   "source": [
    "! python temp/1.py"
   ]
  },
  {
   "cell_type": "code",
   "execution_count": null,
   "id": "extraordinary-prayer",
   "metadata": {},
   "outputs": [],
   "source": []
  }
 ],
 "metadata": {
  "kernelspec": {
   "display_name": "Python 3",
   "language": "python",
   "name": "python3"
  },
  "language_info": {
   "codemirror_mode": {
    "name": "ipython",
    "version": 3
   },
   "file_extension": ".py",
   "mimetype": "text/x-python",
   "name": "python",
   "nbconvert_exporter": "python",
   "pygments_lexer": "ipython3",
   "version": "3.8.5"
  }
 },
 "nbformat": 4,
 "nbformat_minor": 5
}
